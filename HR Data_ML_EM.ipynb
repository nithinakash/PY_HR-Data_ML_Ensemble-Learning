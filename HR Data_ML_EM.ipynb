{
 "cells": [
  {
   "cell_type": "code",
   "execution_count": 1,
   "id": "cc1c1d65",
   "metadata": {},
   "outputs": [
    {
     "name": "stdout",
     "output_type": "stream",
     "text": [
      "Collecting xgboost\n",
      "  Downloading xgboost-1.7.1-py3-none-win_amd64.whl (89.1 MB)\n",
      "Requirement already satisfied: numpy in c:\\users\\nithin\\anaconda3\\lib\\site-packages (from xgboost) (1.20.3)\n",
      "Requirement already satisfied: scipy in c:\\users\\nithin\\anaconda3\\lib\\site-packages (from xgboost) (1.7.1)\n",
      "Installing collected packages: xgboost\n",
      "Successfully installed xgboost-1.7.1\n",
      "Note: you may need to restart the kernel to use updated packages.\n"
     ]
    }
   ],
   "source": [
    "# pip install xgboost"
   ]
  },
  {
   "cell_type": "code",
   "execution_count": 2,
   "id": "6f0631f5",
   "metadata": {},
   "outputs": [],
   "source": [
    "import numpy as np\n",
    "import pandas as pd\n",
    "import matplotlib.pyplot as plt\n",
    "import seaborn as sns\n",
    "%matplotlib inline"
   ]
  },
  {
   "cell_type": "code",
   "execution_count": 3,
   "id": "d7e2b199",
   "metadata": {},
   "outputs": [],
   "source": [
    "from sklearn.model_selection import train_test_split\n",
    "from sklearn.ensemble import BaggingClassifier,RandomForestClassifier,AdaBoostClassifier,GradientBoostingClassifier\n",
    "from xgboost import XGBClassifier\n",
    "from sklearn.metrics import roc_auc_score\n",
    "from sklearn.model_selection import cross_validate,cross_val_score,KFold,StratifiedKFold,GridSearchCV\n",
    "from sklearn.preprocessing import StandardScaler,minmax_scale"
   ]
  },
  {
   "cell_type": "markdown",
   "id": "424cbb2a",
   "metadata": {},
   "source": [
    "### Datasets"
   ]
  },
  {
   "cell_type": "code",
   "execution_count": 4,
   "id": "4101352b",
   "metadata": {},
   "outputs": [],
   "source": [
    "HR = pd.read_csv('C:/Users/Nithin/Downloads/ML_DT/HR_comma_sep.csv')"
   ]
  },
  {
   "cell_type": "markdown",
   "id": "4407c030",
   "metadata": {},
   "source": [
    "### Data Prep"
   ]
  },
  {
   "cell_type": "code",
   "execution_count": 5,
   "id": "0d8c3ff9",
   "metadata": {},
   "outputs": [
    {
     "name": "stdout",
     "output_type": "stream",
     "text": [
      "<class 'pandas.core.frame.DataFrame'>\n",
      "RangeIndex: 14999 entries, 0 to 14998\n",
      "Data columns (total 10 columns):\n",
      " #   Column                 Non-Null Count  Dtype  \n",
      "---  ------                 --------------  -----  \n",
      " 0   satisfaction_level     14999 non-null  float64\n",
      " 1   last_evaluation        14999 non-null  float64\n",
      " 2   number_project         14999 non-null  int64  \n",
      " 3   average_montly_hours   14999 non-null  int64  \n",
      " 4   time_spend_company     14999 non-null  int64  \n",
      " 5   Work_accident          14999 non-null  int64  \n",
      " 6   left                   14999 non-null  int64  \n",
      " 7   promotion_last_5years  14999 non-null  int64  \n",
      " 8   department             14999 non-null  object \n",
      " 9   salary                 14999 non-null  object \n",
      "dtypes: float64(2), int64(6), object(2)\n",
      "memory usage: 1.1+ MB\n"
     ]
    }
   ],
   "source": [
    "HR.info()"
   ]
  },
  {
   "cell_type": "code",
   "execution_count": 6,
   "id": "60cbdd8d",
   "metadata": {},
   "outputs": [
    {
     "data": {
      "text/plain": [
       "satisfaction_level       0\n",
       "last_evaluation          0\n",
       "number_project           0\n",
       "average_montly_hours     0\n",
       "time_spend_company       0\n",
       "Work_accident            0\n",
       "left                     0\n",
       "promotion_last_5years    0\n",
       "department               0\n",
       "salary                   0\n",
       "dtype: int64"
      ]
     },
     "execution_count": 6,
     "metadata": {},
     "output_type": "execute_result"
    }
   ],
   "source": [
    "HR.isna().sum()"
   ]
  },
  {
   "cell_type": "code",
   "execution_count": 7,
   "id": "64815fcd",
   "metadata": {},
   "outputs": [],
   "source": [
    "#Ordinal Label Encoding\n",
    "HR.salary = np.where(HR.salary == 'low',1,\n",
    "            np.where(HR.salary == 'medium',2,3))"
   ]
  },
  {
   "cell_type": "code",
   "execution_count": 8,
   "id": "b4212262",
   "metadata": {},
   "outputs": [],
   "source": [
    "#One hot encoding\n",
    "HR.department.value_counts()\n",
    "\n",
    "dummy_df = pd.get_dummies(HR.department,drop_first=True,prefix='Dept')"
   ]
  },
  {
   "cell_type": "code",
   "execution_count": 9,
   "id": "344d072a",
   "metadata": {},
   "outputs": [],
   "source": [
    "HR = pd.concat([HR,dummy_df],axis=1)\n",
    "del HR['department']"
   ]
  },
  {
   "cell_type": "markdown",
   "id": "d0c0fc7e",
   "metadata": {},
   "source": [
    "### Train & Test Model"
   ]
  },
  {
   "cell_type": "code",
   "execution_count": 10,
   "id": "52b4b521",
   "metadata": {},
   "outputs": [],
   "source": [
    "feat = ['satisfaction_level', 'last_evaluation', 'number_project',\n",
    "       'average_montly_hours', 'time_spend_company', 'Work_accident',\n",
    "       'promotion_last_5years', 'salary', 'Dept_RandD', 'Dept_accounting',\n",
    "       'Dept_hr', 'Dept_management', 'Dept_marketing', 'Dept_product_mng',\n",
    "       'Dept_sales', 'Dept_support', 'Dept_technical']"
   ]
  },
  {
   "cell_type": "code",
   "execution_count": 11,
   "id": "497f0e13",
   "metadata": {},
   "outputs": [],
   "source": [
    "train_x,test_x,train_y,test_y = train_test_split(HR[feat],HR['left'],test_size=0.3,random_state=12345)"
   ]
  },
  {
   "cell_type": "markdown",
   "id": "ee618ae4",
   "metadata": {},
   "source": [
    "# Random Forest"
   ]
  },
  {
   "cell_type": "markdown",
   "id": "a80ce966",
   "metadata": {},
   "source": [
    "### Without Hyperparameter Tuning"
   ]
  },
  {
   "cell_type": "code",
   "execution_count": 12,
   "id": "20e2247a",
   "metadata": {},
   "outputs": [
    {
     "name": "stderr",
     "output_type": "stream",
     "text": [
      "C:\\Users\\Nithin\\anaconda3\\lib\\site-packages\\sklearn\\ensemble\\_forest.py:541: UserWarning: Some inputs do not have OOB scores. This probably means too few trees were used to compute any reliable oob estimates.\n",
      "  warn(\"Some inputs do not have OOB scores. \"\n",
      "C:\\Users\\Nithin\\anaconda3\\lib\\site-packages\\sklearn\\ensemble\\_forest.py:545: RuntimeWarning: invalid value encountered in true_divide\n",
      "  decision = (predictions[k] /\n"
     ]
    },
    {
     "data": {
      "text/plain": [
       "RandomForestClassifier(n_estimators=10, n_jobs=-1, oob_score=True)"
      ]
     },
     "execution_count": 12,
     "metadata": {},
     "output_type": "execute_result"
    }
   ],
   "source": [
    "RAND = RandomForestClassifier(n_estimators=10,oob_score=True,n_jobs=-1)\n",
    "\n",
    "RAND.fit(train_x,train_y)"
   ]
  },
  {
   "cell_type": "code",
   "execution_count": 13,
   "id": "c44f1150",
   "metadata": {},
   "outputs": [
    {
     "data": {
      "text/plain": [
       "0.9799028478902753"
      ]
     },
     "execution_count": 13,
     "metadata": {},
     "output_type": "execute_result"
    }
   ],
   "source": [
    "RAND.oob_score_"
   ]
  },
  {
   "cell_type": "code",
   "execution_count": 14,
   "id": "95d55f3f",
   "metadata": {},
   "outputs": [
    {
     "data": {
      "text/plain": [
       "0.999993443982417"
      ]
     },
     "execution_count": 14,
     "metadata": {},
     "output_type": "execute_result"
    }
   ],
   "source": [
    "train_pred = pd.DataFrame(RAND.predict_proba(train_x))[1]\n",
    "roc_auc_score(train_y,train_pred)"
   ]
  },
  {
   "cell_type": "code",
   "execution_count": 15,
   "id": "e7ebdb75",
   "metadata": {},
   "outputs": [
    {
     "data": {
      "text/plain": [
       "0.9921804449093818"
      ]
     },
     "execution_count": 15,
     "metadata": {},
     "output_type": "execute_result"
    }
   ],
   "source": [
    "test_pred = pd.DataFrame(RAND.predict_proba(test_x))[1]\n",
    "roc_auc_score(test_y,test_pred)"
   ]
  },
  {
   "cell_type": "markdown",
   "id": "b7fd253d",
   "metadata": {},
   "source": [
    "### With Hyperparameter Tuning"
   ]
  },
  {
   "cell_type": "code",
   "execution_count": 16,
   "id": "039d3806",
   "metadata": {},
   "outputs": [],
   "source": [
    "params = {'n_estimators':[50,60,70,80,90,100],\n",
    "          'max_features':[5,6,7,8,9]}"
   ]
  },
  {
   "cell_type": "code",
   "execution_count": 17,
   "id": "1deeea61",
   "metadata": {},
   "outputs": [
    {
     "data": {
      "text/plain": [
       "GridSearchCV(cv=5, estimator=RandomForestClassifier(),\n",
       "             param_grid={'max_features': [5, 6, 7, 8, 9],\n",
       "                         'n_estimators': [50, 60, 70, 80, 90, 100]},\n",
       "             scoring='roc_auc')"
      ]
     },
     "execution_count": 17,
     "metadata": {},
     "output_type": "execute_result"
    }
   ],
   "source": [
    "RAND_H = GridSearchCV(RandomForestClassifier(),param_grid=params,cv=5,scoring='roc_auc')\n",
    "\n",
    "RAND_H.fit(train_x,train_y)"
   ]
  },
  {
   "cell_type": "code",
   "execution_count": 18,
   "id": "a2833759",
   "metadata": {},
   "outputs": [
    {
     "data": {
      "text/plain": [
       "{'max_features': 8, 'n_estimators': 100}"
      ]
     },
     "execution_count": 18,
     "metadata": {},
     "output_type": "execute_result"
    }
   ],
   "source": [
    "RAND_H.best_params_"
   ]
  },
  {
   "cell_type": "markdown",
   "id": "f59c73fd",
   "metadata": {},
   "source": [
    "### Using Best Params"
   ]
  },
  {
   "cell_type": "code",
   "execution_count": 19,
   "id": "e394a718",
   "metadata": {},
   "outputs": [
    {
     "data": {
      "text/plain": [
       "RandomForestClassifier(max_features=6, n_estimators=80, n_jobs=-1,\n",
       "                       oob_score=True)"
      ]
     },
     "execution_count": 19,
     "metadata": {},
     "output_type": "execute_result"
    }
   ],
   "source": [
    "RAND = RandomForestClassifier(n_estimators=80,oob_score=True,n_jobs=-1,max_features=6)\n",
    "\n",
    "RAND.fit(train_x,train_y)"
   ]
  },
  {
   "cell_type": "code",
   "execution_count": 20,
   "id": "f9b72b8b",
   "metadata": {},
   "outputs": [
    {
     "data": {
      "text/plain": [
       "0.9903800361939232"
      ]
     },
     "execution_count": 20,
     "metadata": {},
     "output_type": "execute_result"
    }
   ],
   "source": [
    "RAND.oob_score_"
   ]
  },
  {
   "cell_type": "code",
   "execution_count": 21,
   "id": "6aba9167",
   "metadata": {},
   "outputs": [
    {
     "data": {
      "text/plain": [
       "1.0"
      ]
     },
     "execution_count": 21,
     "metadata": {},
     "output_type": "execute_result"
    }
   ],
   "source": [
    "train_pred = pd.DataFrame(RAND.predict_proba(train_x))[1]\n",
    "roc_auc_score(train_y,train_pred)"
   ]
  },
  {
   "cell_type": "code",
   "execution_count": 22,
   "id": "80636d3b",
   "metadata": {},
   "outputs": [
    {
     "data": {
      "text/plain": [
       "0.9926069635560563"
      ]
     },
     "execution_count": 22,
     "metadata": {},
     "output_type": "execute_result"
    }
   ],
   "source": [
    "test_pred = pd.DataFrame(RAND.predict_proba(test_x))[1]\n",
    "roc_auc_score(test_y,test_pred)"
   ]
  },
  {
   "cell_type": "markdown",
   "id": "745ff65f",
   "metadata": {},
   "source": [
    "# Adaboost / Adaptive Boosting"
   ]
  },
  {
   "cell_type": "markdown",
   "id": "5e67531d",
   "metadata": {},
   "source": [
    "### Without Hyperparameter Tuning"
   ]
  },
  {
   "cell_type": "code",
   "execution_count": 23,
   "id": "4ee2334b",
   "metadata": {},
   "outputs": [
    {
     "data": {
      "text/plain": [
       "AdaBoostClassifier(learning_rate=0.01, n_estimators=10)"
      ]
     },
     "execution_count": 23,
     "metadata": {},
     "output_type": "execute_result"
    }
   ],
   "source": [
    "ADA = AdaBoostClassifier(n_estimators=10,learning_rate=0.01)\n",
    "\n",
    "ADA.fit(train_x,train_y)"
   ]
  },
  {
   "cell_type": "code",
   "execution_count": 24,
   "id": "483c4a8b",
   "metadata": {},
   "outputs": [
    {
     "data": {
      "text/plain": [
       "0.7793395641064718"
      ]
     },
     "execution_count": 24,
     "metadata": {},
     "output_type": "execute_result"
    }
   ],
   "source": [
    "train_pred = pd.DataFrame(ADA.predict_proba(train_x))[1]\n",
    "roc_auc_score(train_y,train_pred)"
   ]
  },
  {
   "cell_type": "code",
   "execution_count": 25,
   "id": "2f5ddc5a",
   "metadata": {},
   "outputs": [
    {
     "data": {
      "text/plain": [
       "0.7886943080925942"
      ]
     },
     "execution_count": 25,
     "metadata": {},
     "output_type": "execute_result"
    }
   ],
   "source": [
    "test_pred = pd.DataFrame(ADA.predict_proba(test_x))[1]\n",
    "roc_auc_score(test_y,test_pred)"
   ]
  },
  {
   "cell_type": "markdown",
   "id": "f335f589",
   "metadata": {},
   "source": [
    "### With Hyperparameter Tuning"
   ]
  },
  {
   "cell_type": "code",
   "execution_count": 26,
   "id": "fe4ca1f8",
   "metadata": {},
   "outputs": [],
   "source": [
    "params = {'n_estimators':[50,100,200,300,400],\n",
    "          'learning_rate':[0.001,0.01,0.1]}"
   ]
  },
  {
   "cell_type": "code",
   "execution_count": 27,
   "id": "6ab37986",
   "metadata": {},
   "outputs": [
    {
     "data": {
      "text/plain": [
       "GridSearchCV(cv=5, estimator=AdaBoostClassifier(),\n",
       "             param_grid={'learning_rate': [0.001, 0.01, 0.1],\n",
       "                         'n_estimators': [50, 100, 200, 300, 400]},\n",
       "             scoring='roc_auc')"
      ]
     },
     "execution_count": 27,
     "metadata": {},
     "output_type": "execute_result"
    }
   ],
   "source": [
    "ADA_H = GridSearchCV(AdaBoostClassifier(),param_grid=params,cv=5,scoring='roc_auc')\n",
    "\n",
    "ADA_H.fit(train_x,train_y)"
   ]
  },
  {
   "cell_type": "code",
   "execution_count": 28,
   "id": "d9922a7f",
   "metadata": {},
   "outputs": [
    {
     "data": {
      "text/plain": [
       "{'learning_rate': 0.1, 'n_estimators': 400}"
      ]
     },
     "execution_count": 28,
     "metadata": {},
     "output_type": "execute_result"
    }
   ],
   "source": [
    "ADA_H.best_params_"
   ]
  },
  {
   "cell_type": "markdown",
   "id": "ddea926e",
   "metadata": {},
   "source": [
    "### Using Best Params"
   ]
  },
  {
   "cell_type": "code",
   "execution_count": 29,
   "id": "2abf51d0",
   "metadata": {},
   "outputs": [
    {
     "data": {
      "text/plain": [
       "AdaBoostClassifier(learning_rate=0.1, n_estimators=400)"
      ]
     },
     "execution_count": 29,
     "metadata": {},
     "output_type": "execute_result"
    }
   ],
   "source": [
    "ADA = AdaBoostClassifier(n_estimators=400,learning_rate=0.1)\n",
    "\n",
    "ADA.fit(train_x,train_y)"
   ]
  },
  {
   "cell_type": "code",
   "execution_count": 30,
   "id": "c3eb6f5b",
   "metadata": {},
   "outputs": [
    {
     "data": {
      "text/plain": [
       "0.981140563985742"
      ]
     },
     "execution_count": 30,
     "metadata": {},
     "output_type": "execute_result"
    }
   ],
   "source": [
    "train_pred = pd.DataFrame(ADA.predict_proba(train_x))[1]\n",
    "roc_auc_score(train_y,train_pred)"
   ]
  },
  {
   "cell_type": "code",
   "execution_count": 31,
   "id": "abc58617",
   "metadata": {},
   "outputs": [
    {
     "data": {
      "text/plain": [
       "0.9842540156737569"
      ]
     },
     "execution_count": 31,
     "metadata": {},
     "output_type": "execute_result"
    }
   ],
   "source": [
    "test_pred = pd.DataFrame(ADA.predict_proba(test_x))[1]\n",
    "roc_auc_score(test_y,test_pred)"
   ]
  },
  {
   "cell_type": "markdown",
   "id": "390f196c",
   "metadata": {},
   "source": [
    "# Bagging"
   ]
  },
  {
   "cell_type": "markdown",
   "id": "96e5d7ef",
   "metadata": {},
   "source": [
    "### Without Hyperparameter Tuning"
   ]
  },
  {
   "cell_type": "code",
   "execution_count": 32,
   "id": "134d6167",
   "metadata": {},
   "outputs": [
    {
     "name": "stderr",
     "output_type": "stream",
     "text": [
      "C:\\Users\\Nithin\\anaconda3\\lib\\site-packages\\sklearn\\ensemble\\_bagging.py:640: UserWarning: Some inputs do not have OOB scores. This probably means too few estimators were used to compute any reliable oob estimates.\n",
      "  warn(\"Some inputs do not have OOB scores. \"\n",
      "C:\\Users\\Nithin\\anaconda3\\lib\\site-packages\\sklearn\\ensemble\\_bagging.py:644: RuntimeWarning: invalid value encountered in true_divide\n",
      "  oob_decision_function = (predictions /\n"
     ]
    },
    {
     "data": {
      "text/plain": [
       "BaggingClassifier(n_jobs=-1, oob_score=True)"
      ]
     },
     "execution_count": 32,
     "metadata": {},
     "output_type": "execute_result"
    }
   ],
   "source": [
    "BAG = BaggingClassifier(n_estimators=10,oob_score=True,n_jobs=-1)\n",
    "\n",
    "BAG.fit(train_x,train_y)"
   ]
  },
  {
   "cell_type": "code",
   "execution_count": 33,
   "id": "d9070992",
   "metadata": {},
   "outputs": [
    {
     "data": {
      "text/plain": [
       "0.9796171063910849"
      ]
     },
     "execution_count": 33,
     "metadata": {},
     "output_type": "execute_result"
    }
   ],
   "source": [
    "BAG.oob_score_"
   ]
  },
  {
   "cell_type": "code",
   "execution_count": 34,
   "id": "f1129469",
   "metadata": {},
   "outputs": [
    {
     "data": {
      "text/plain": [
       "0.9999905741784939"
      ]
     },
     "execution_count": 34,
     "metadata": {},
     "output_type": "execute_result"
    }
   ],
   "source": [
    "train_pred = pd.DataFrame(BAG.predict_proba(train_x))[1]\n",
    "roc_auc_score(train_y,train_pred)"
   ]
  },
  {
   "cell_type": "code",
   "execution_count": 35,
   "id": "7cd3ae76",
   "metadata": {},
   "outputs": [
    {
     "data": {
      "text/plain": [
       "0.9892367258120758"
      ]
     },
     "execution_count": 35,
     "metadata": {},
     "output_type": "execute_result"
    }
   ],
   "source": [
    "test_pred = pd.DataFrame(BAG.predict_proba(test_x))[1]\n",
    "roc_auc_score(test_y,test_pred)"
   ]
  },
  {
   "cell_type": "markdown",
   "id": "89616598",
   "metadata": {},
   "source": [
    "### With Hyperparameter Tuning"
   ]
  },
  {
   "cell_type": "code",
   "execution_count": 36,
   "id": "7f7183d5",
   "metadata": {},
   "outputs": [],
   "source": [
    "params = {'n_estimators':[50,60,70,80,90,100],\n",
    "          'max_samples':[1,10,20,50]}"
   ]
  },
  {
   "cell_type": "code",
   "execution_count": 37,
   "id": "5daf1694",
   "metadata": {},
   "outputs": [
    {
     "data": {
      "text/plain": [
       "GridSearchCV(cv=5, estimator=BaggingClassifier(),\n",
       "             param_grid={'max_samples': [1, 10, 20, 50],\n",
       "                         'n_estimators': [50, 60, 70, 80, 90, 100]},\n",
       "             scoring='roc_auc')"
      ]
     },
     "execution_count": 37,
     "metadata": {},
     "output_type": "execute_result"
    }
   ],
   "source": [
    "BAG_H = GridSearchCV(BaggingClassifier(),param_grid=params,cv=5,scoring='roc_auc')\n",
    "\n",
    "BAG_H.fit(train_x,train_y)"
   ]
  },
  {
   "cell_type": "code",
   "execution_count": 38,
   "id": "e8520e36",
   "metadata": {},
   "outputs": [
    {
     "data": {
      "text/plain": [
       "{'max_samples': 50, 'n_estimators': 60}"
      ]
     },
     "execution_count": 38,
     "metadata": {},
     "output_type": "execute_result"
    }
   ],
   "source": [
    "BAG_H.best_params_"
   ]
  },
  {
   "cell_type": "markdown",
   "id": "c24929a1",
   "metadata": {},
   "source": [
    "### Using Best Params"
   ]
  },
  {
   "cell_type": "code",
   "execution_count": 39,
   "id": "a459601d",
   "metadata": {},
   "outputs": [
    {
     "data": {
      "text/plain": [
       "BaggingClassifier(max_samples=50, n_estimators=100, n_jobs=-1, oob_score=True)"
      ]
     },
     "execution_count": 39,
     "metadata": {},
     "output_type": "execute_result"
    }
   ],
   "source": [
    "BAG = BaggingClassifier(n_estimators=100,oob_score=True,n_jobs=-1,max_samples=50)\n",
    "\n",
    "BAG.fit(train_x,train_y)"
   ]
  },
  {
   "cell_type": "code",
   "execution_count": 40,
   "id": "ce0efdd1",
   "metadata": {},
   "outputs": [
    {
     "data": {
      "text/plain": [
       "0.9431374416611106"
      ]
     },
     "execution_count": 40,
     "metadata": {},
     "output_type": "execute_result"
    }
   ],
   "source": [
    "BAG.oob_score_"
   ]
  },
  {
   "cell_type": "code",
   "execution_count": 41,
   "id": "ead64696",
   "metadata": {},
   "outputs": [
    {
     "data": {
      "text/plain": [
       "0.9723086434535814"
      ]
     },
     "execution_count": 41,
     "metadata": {},
     "output_type": "execute_result"
    }
   ],
   "source": [
    "train_pred = pd.DataFrame(BAG.predict_proba(train_x))[1]\n",
    "roc_auc_score(train_y,train_pred)"
   ]
  },
  {
   "cell_type": "code",
   "execution_count": 42,
   "id": "931a3f0e",
   "metadata": {},
   "outputs": [
    {
     "data": {
      "text/plain": [
       "0.973562689439661"
      ]
     },
     "execution_count": 42,
     "metadata": {},
     "output_type": "execute_result"
    }
   ],
   "source": [
    "test_pred = pd.DataFrame(BAG.predict_proba(test_x))[1]\n",
    "roc_auc_score(test_y,test_pred)"
   ]
  },
  {
   "cell_type": "markdown",
   "id": "4616a1bf",
   "metadata": {},
   "source": [
    "# Gradient Boosting"
   ]
  },
  {
   "cell_type": "markdown",
   "id": "0a23b329",
   "metadata": {},
   "source": [
    "### Without Hyperparameter Tuning"
   ]
  },
  {
   "cell_type": "code",
   "execution_count": 43,
   "id": "cc80ca45",
   "metadata": {},
   "outputs": [
    {
     "data": {
      "text/plain": [
       "GradientBoostingClassifier(learning_rate=0.01, n_estimators=10)"
      ]
     },
     "execution_count": 43,
     "metadata": {},
     "output_type": "execute_result"
    }
   ],
   "source": [
    "GRAD = GradientBoostingClassifier(n_estimators=10,learning_rate=0.01)\n",
    "\n",
    "GRAD.fit(train_x,train_y)"
   ]
  },
  {
   "cell_type": "code",
   "execution_count": 44,
   "id": "b2f10fc4",
   "metadata": {},
   "outputs": [
    {
     "data": {
      "text/plain": [
       "0.9675027856889806"
      ]
     },
     "execution_count": 44,
     "metadata": {},
     "output_type": "execute_result"
    }
   ],
   "source": [
    "train_pred = pd.DataFrame(GRAD.predict_proba(train_x))[1]\n",
    "roc_auc_score(train_y,train_pred)"
   ]
  },
  {
   "cell_type": "code",
   "execution_count": 45,
   "id": "85520c85",
   "metadata": {},
   "outputs": [
    {
     "data": {
      "text/plain": [
       "0.9696590589039993"
      ]
     },
     "execution_count": 45,
     "metadata": {},
     "output_type": "execute_result"
    }
   ],
   "source": [
    "test_pred = pd.DataFrame(GRAD.predict_proba(test_x))[1]\n",
    "roc_auc_score(test_y,test_pred)"
   ]
  },
  {
   "cell_type": "markdown",
   "id": "dc64fc89",
   "metadata": {},
   "source": [
    "### With Hyperparameter Tuning"
   ]
  },
  {
   "cell_type": "code",
   "execution_count": 46,
   "id": "b6c6bae1",
   "metadata": {},
   "outputs": [],
   "source": [
    "params = {'n_estimators':[50,100,200,300,400],\n",
    "          'learning_rate':[0.001,0.01,0.1]}"
   ]
  },
  {
   "cell_type": "code",
   "execution_count": 47,
   "id": "24001f4b",
   "metadata": {},
   "outputs": [
    {
     "name": "stdout",
     "output_type": "stream",
     "text": [
      "Wall time: 1min 58s\n"
     ]
    },
    {
     "data": {
      "text/plain": [
       "GridSearchCV(cv=5, estimator=GradientBoostingClassifier(),\n",
       "             param_grid={'learning_rate': [0.001, 0.01, 0.1],\n",
       "                         'n_estimators': [50, 100, 200, 300, 400]},\n",
       "             scoring='roc_auc')"
      ]
     },
     "execution_count": 47,
     "metadata": {},
     "output_type": "execute_result"
    }
   ],
   "source": [
    "GRAD_H = GridSearchCV(GradientBoostingClassifier(),param_grid=params,cv=5,scoring='roc_auc')\n",
    "\n",
    "%time GRAD_H.fit(train_x,train_y)"
   ]
  },
  {
   "cell_type": "code",
   "execution_count": 48,
   "id": "a4b304d5",
   "metadata": {},
   "outputs": [
    {
     "data": {
      "text/plain": [
       "{'learning_rate': 0.1, 'n_estimators': 400}"
      ]
     },
     "execution_count": 48,
     "metadata": {},
     "output_type": "execute_result"
    }
   ],
   "source": [
    "GRAD_H.best_params_"
   ]
  },
  {
   "cell_type": "markdown",
   "id": "faccde3e",
   "metadata": {},
   "source": [
    "### Using Best Params"
   ]
  },
  {
   "cell_type": "code",
   "execution_count": 49,
   "id": "f1efecf2",
   "metadata": {},
   "outputs": [
    {
     "data": {
      "text/plain": [
       "GradientBoostingClassifier(n_estimators=400)"
      ]
     },
     "execution_count": 49,
     "metadata": {},
     "output_type": "execute_result"
    }
   ],
   "source": [
    "GRAD = GradientBoostingClassifier(n_estimators=400,learning_rate=0.1)\n",
    "\n",
    "GRAD.fit(train_x,train_y)"
   ]
  },
  {
   "cell_type": "code",
   "execution_count": 50,
   "id": "33ae4449",
   "metadata": {},
   "outputs": [
    {
     "data": {
      "text/plain": [
       "0.997639759451056"
      ]
     },
     "execution_count": 50,
     "metadata": {},
     "output_type": "execute_result"
    }
   ],
   "source": [
    "train_pred = pd.DataFrame(GRAD.predict_proba(train_x))[1]\n",
    "roc_auc_score(train_y,train_pred)"
   ]
  },
  {
   "cell_type": "code",
   "execution_count": 51,
   "id": "28d91a9f",
   "metadata": {},
   "outputs": [
    {
     "data": {
      "text/plain": [
       "0.9937565940648945"
      ]
     },
     "execution_count": 51,
     "metadata": {},
     "output_type": "execute_result"
    }
   ],
   "source": [
    "test_pred = pd.DataFrame(GRAD.predict_proba(test_x))[1]\n",
    "roc_auc_score(test_y,test_pred)"
   ]
  },
  {
   "cell_type": "markdown",
   "id": "2aae096e",
   "metadata": {},
   "source": [
    "# XG Boosting"
   ]
  },
  {
   "cell_type": "markdown",
   "id": "62122d5d",
   "metadata": {},
   "source": [
    "### Without Hyperparameter Tuning"
   ]
  },
  {
   "cell_type": "code",
   "execution_count": 61,
   "id": "94098f00",
   "metadata": {},
   "outputs": [],
   "source": [
    "? XGBClassifier"
   ]
  },
  {
   "cell_type": "code",
   "execution_count": 58,
   "id": "bf249df6",
   "metadata": {},
   "outputs": [
    {
     "data": {
      "text/plain": [
       "XGBClassifier(base_score=0.5, booster='gbtree', callbacks=None,\n",
       "              colsample_bylevel=1, colsample_bynode=1, colsample_bytree=1,\n",
       "              early_stopping_rounds=None, enable_categorical=False,\n",
       "              eval_metric=None, feature_types=None, gamma=0, gpu_id=-1,\n",
       "              grow_policy='depthwise', importance_type=None,\n",
       "              interaction_constraints='', learning_rate=0.01, max_bin=256,\n",
       "              max_cat_threshold=64, max_cat_to_onehot=4, max_delta_step=0,\n",
       "              max_depth=6, max_leaves=0, min_child_weight=1, missing=nan,\n",
       "              monotone_constraints='()', n_estimators=10, n_jobs=0,\n",
       "              num_parallel_tree=1, predictor='auto', random_state=0, ...)"
      ]
     },
     "execution_count": 58,
     "metadata": {},
     "output_type": "execute_result"
    }
   ],
   "source": [
    "XG = XGBClassifier(n_estimators=10,learning_rate=0.01)\n",
    "\n",
    "XG.fit(train_x,train_y)"
   ]
  },
  {
   "cell_type": "code",
   "execution_count": 59,
   "id": "edb19cda",
   "metadata": {},
   "outputs": [
    {
     "data": {
      "text/plain": [
       "0.9778550343287924"
      ]
     },
     "execution_count": 59,
     "metadata": {},
     "output_type": "execute_result"
    }
   ],
   "source": [
    "train_pred = pd.DataFrame(XG.predict_proba(train_x))[1]\n",
    "roc_auc_score(train_y,train_pred)"
   ]
  },
  {
   "cell_type": "code",
   "execution_count": 60,
   "id": "49658320",
   "metadata": {},
   "outputs": [
    {
     "data": {
      "text/plain": [
       "0.9796063175612242"
      ]
     },
     "execution_count": 60,
     "metadata": {},
     "output_type": "execute_result"
    }
   ],
   "source": [
    "test_pred = pd.DataFrame(XG.predict_proba(test_x))[1]\n",
    "roc_auc_score(test_y,test_pred)"
   ]
  },
  {
   "cell_type": "markdown",
   "id": "fcb62555",
   "metadata": {},
   "source": [
    "### With Hyperparameter Tuning"
   ]
  },
  {
   "cell_type": "code",
   "execution_count": 62,
   "id": "689a181a",
   "metadata": {},
   "outputs": [],
   "source": [
    "params = {'n_estimators':[50,100,200,300,400],\n",
    "          'learning_rate':[0.001,0.01,0.1]}"
   ]
  },
  {
   "cell_type": "code",
   "execution_count": 63,
   "id": "e3f01a2c",
   "metadata": {},
   "outputs": [
    {
     "name": "stdout",
     "output_type": "stream",
     "text": [
      "Wall time: 42.3 s\n"
     ]
    },
    {
     "data": {
      "text/plain": [
       "GridSearchCV(cv=5,\n",
       "             estimator=XGBClassifier(base_score=None, booster=None,\n",
       "                                     callbacks=None, colsample_bylevel=None,\n",
       "                                     colsample_bynode=None,\n",
       "                                     colsample_bytree=None,\n",
       "                                     early_stopping_rounds=None,\n",
       "                                     enable_categorical=False, eval_metric=None,\n",
       "                                     feature_types=None, gamma=None,\n",
       "                                     gpu_id=None, grow_policy=None,\n",
       "                                     importance_type=None,\n",
       "                                     interaction_constraints=None,\n",
       "                                     learning_rate=None,...ne,\n",
       "                                     max_cat_threshold=None,\n",
       "                                     max_cat_to_onehot=None,\n",
       "                                     max_delta_step=None, max_depth=None,\n",
       "                                     max_leaves=None, min_child_weight=None,\n",
       "                                     missing=nan, monotone_constraints=None,\n",
       "                                     n_estimators=100, n_jobs=None,\n",
       "                                     num_parallel_tree=None, predictor=None,\n",
       "                                     random_state=None, ...),\n",
       "             param_grid={'learning_rate': [0.001, 0.01, 0.1],\n",
       "                         'n_estimators': [50, 100, 200, 300, 400]},\n",
       "             scoring='roc_auc')"
      ]
     },
     "execution_count": 63,
     "metadata": {},
     "output_type": "execute_result"
    }
   ],
   "source": [
    "XG_H = GridSearchCV(XGBClassifier(),param_grid=params,cv=5,scoring='roc_auc')\n",
    "\n",
    "%time XG_H.fit(train_x,train_y)"
   ]
  },
  {
   "cell_type": "code",
   "execution_count": 64,
   "id": "742662f4",
   "metadata": {},
   "outputs": [
    {
     "data": {
      "text/plain": [
       "{'learning_rate': 0.1, 'n_estimators': 200}"
      ]
     },
     "execution_count": 64,
     "metadata": {},
     "output_type": "execute_result"
    }
   ],
   "source": [
    "XG_H.best_params_"
   ]
  },
  {
   "cell_type": "markdown",
   "id": "52a21b6b",
   "metadata": {},
   "source": [
    "### Using Best Params"
   ]
  },
  {
   "cell_type": "code",
   "execution_count": 65,
   "id": "cdd3e0ac",
   "metadata": {},
   "outputs": [
    {
     "data": {
      "text/plain": [
       "XGBClassifier(base_score=0.5, booster='gbtree', callbacks=None,\n",
       "              colsample_bylevel=1, colsample_bynode=1, colsample_bytree=1,\n",
       "              early_stopping_rounds=None, enable_categorical=False,\n",
       "              eval_metric=None, feature_types=None, gamma=0, gpu_id=-1,\n",
       "              grow_policy='depthwise', importance_type=None,\n",
       "              interaction_constraints='', learning_rate=0.1, max_bin=256,\n",
       "              max_cat_threshold=64, max_cat_to_onehot=4, max_delta_step=0,\n",
       "              max_depth=6, max_leaves=0, min_child_weight=1, missing=nan,\n",
       "              monotone_constraints='()', n_estimators=200, n_jobs=0,\n",
       "              num_parallel_tree=1, predictor='auto', random_state=0, ...)"
      ]
     },
     "execution_count": 65,
     "metadata": {},
     "output_type": "execute_result"
    }
   ],
   "source": [
    "XG = XGBClassifier(n_estimators=200,learning_rate=0.1)\n",
    "\n",
    "XG.fit(train_x,train_y)"
   ]
  },
  {
   "cell_type": "code",
   "execution_count": 66,
   "id": "769ca258",
   "metadata": {},
   "outputs": [
    {
     "data": {
      "text/plain": [
       "0.9995646804324894"
      ]
     },
     "execution_count": 66,
     "metadata": {},
     "output_type": "execute_result"
    }
   ],
   "source": [
    "train_pred = pd.DataFrame(XG.predict_proba(train_x))[1]\n",
    "roc_auc_score(train_y,train_pred)"
   ]
  },
  {
   "cell_type": "code",
   "execution_count": 67,
   "id": "0b2cb228",
   "metadata": {},
   "outputs": [
    {
     "data": {
      "text/plain": [
       "0.9945126762515312"
      ]
     },
     "execution_count": 67,
     "metadata": {},
     "output_type": "execute_result"
    }
   ],
   "source": [
    "test_pred = pd.DataFrame(XG.predict_proba(test_x))[1]\n",
    "roc_auc_score(test_y,test_pred)"
   ]
  }
 ],
 "metadata": {
  "kernelspec": {
   "display_name": "Python 3 (ipykernel)",
   "language": "python",
   "name": "python3"
  },
  "language_info": {
   "codemirror_mode": {
    "name": "ipython",
    "version": 3
   },
   "file_extension": ".py",
   "mimetype": "text/x-python",
   "name": "python",
   "nbconvert_exporter": "python",
   "pygments_lexer": "ipython3",
   "version": "3.9.7"
  }
 },
 "nbformat": 4,
 "nbformat_minor": 5
}
